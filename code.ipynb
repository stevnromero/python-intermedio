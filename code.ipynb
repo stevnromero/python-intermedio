{
 "cells": [
  {
   "cell_type": "code",
   "execution_count": null,
   "id": "08f821ef",
   "metadata": {},
   "outputs": [
    {
     "name": "stdout",
     "output_type": "stream",
     "text": [
      "  nombres   edad          carrera\n",
      "0   Andrea     22    programacion\n",
      "1  Marizta     25  diseño de moda\n",
      "2    Pedro     19     mecatronica\n",
      "2.3.1\n"
     ]
    }
   ],
   "source": [
    "import pandas as pd\n",
    "aprendices = {\n",
    "    \"nombres \": [\"Andrea\", \"Marizta\", \"Pedro\"],\n",
    "    \"edad \" : [22, 25, 19],\n",
    "    \"carrera\" : [\"programacion\", \"diseño de moda\", \"mecatronica\"]\n",
    "}\n",
    "df = pd.DataFrame(aprendices)\n",
    "print(df)\n",
    "print(pd.__version__)"
   ]
  }
 ],
 "metadata": {
  "kernelspec": {
   "display_name": "Python 3",
   "language": "python",
   "name": "python3"
  },
  "language_info": {
   "codemirror_mode": {
    "name": "ipython",
    "version": 3
   },
   "file_extension": ".py",
   "mimetype": "text/x-python",
   "name": "python",
   "nbconvert_exporter": "python",
   "pygments_lexer": "ipython3",
   "version": "3.13.4"
  }
 },
 "nbformat": 4,
 "nbformat_minor": 5
}
